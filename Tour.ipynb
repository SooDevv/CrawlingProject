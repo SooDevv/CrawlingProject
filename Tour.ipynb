{
 "cells": [
  {
   "cell_type": "code",
   "execution_count": 1,
   "metadata": {},
   "outputs": [],
   "source": [
    "# 상품 정보를 담는 클래스\n",
    "class TourInfo:\n",
    "    # 맴버 변수 \n",
    "    title = ''\n",
    "    price = ''\n",
    "    area = ''\n",
    "    link = ''\n",
    "    img = ''\n",
    "    contents = ''\n",
    "\n",
    "    # 생성자\n",
    "    def __init__(self, title, price, area, link, img, contents=None):\n",
    "        self.title = title\n",
    "        self.price = price\n",
    "        self.area = area\n",
    "        self.link = link\n",
    "        self.img = img\n",
    "        self.contents = contents"
   ]
  },
  {
   "cell_type": "code",
   "execution_count": null,
   "metadata": {},
   "outputs": [],
   "source": []
  }
 ],
 "metadata": {
  "kernelspec": {
   "display_name": "Python 3",
   "language": "python",
   "name": "python3"
  },
  "language_info": {
   "codemirror_mode": {
    "name": "ipython",
    "version": 3
   },
   "file_extension": ".py",
   "mimetype": "text/x-python",
   "name": "python",
   "nbconvert_exporter": "python",
   "pygments_lexer": "ipython3",
   "version": "3.6.4"
  }
 },
 "nbformat": 4,
 "nbformat_minor": 2
}
